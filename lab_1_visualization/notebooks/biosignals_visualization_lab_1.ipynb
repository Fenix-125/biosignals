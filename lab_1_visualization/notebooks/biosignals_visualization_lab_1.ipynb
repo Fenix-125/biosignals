{
 "cells": [
  {
   "cell_type": "markdown",
   "source": [
    "# Bio-signals Visualization Lab 1\n"
   ],
   "metadata": {
    "collapsed": false
   }
  },
  {
   "cell_type": "markdown",
   "source": [
    "## Part 1: Movement signals"
   ],
   "metadata": {
    "collapsed": false
   }
  },
  {
   "cell_type": "markdown",
   "source": [
    "### Load data"
   ],
   "metadata": {
    "collapsed": false
   }
  },
  {
   "cell_type": "code",
   "execution_count": null,
   "outputs": [],
   "source": [
    "import pandas as pd\n",
    "from matplotlib import pyplot as plt\n",
    "import scipy.io as spio\n",
    "import numpy as np\n",
    "import matplotlib.pyplot as plt\n",
    "\n",
    "def get_duration_of_signal(data: pd.DataFrame) -> int:\n",
    "    return data['time'].iloc[-1]\n"
   ],
   "metadata": {
    "collapsed": false,
    "pycharm": {
     "name": "#%%\n"
    }
   }
  },
  {
   "cell_type": "markdown",
   "source": [
    "#### Table columns info structure"
   ],
   "metadata": {
    "collapsed": false
   }
  },
  {
   "cell_type": "code",
   "execution_count": null,
   "outputs": [],
   "source": [
    "csv_filed_infos = {\n",
    "    \"accel_x\":      {\"label\": \"ACCELEROMETER X (m/s²)\",         \"units\": \"m/s²\"},\n",
    "    \"accel_y\":      {\"label\": \"ACCELEROMETER Y (m/s²)\",         \"units\": \"m/s²\"},\n",
    "    \"accel_z\":      {\"label\": \"ACCELEROMETER Z (m/s²)\",         \"units\": \"m/s²\"},\n",
    "    \"grav_x\":       {\"label\": \"GRAVITY X (m/s²)\",               \"units\": \"m/s²\"},\n",
    "    \"grav_y\":       {\"label\": \"GRAVITY Y (m/s²)\",               \"units\": \"m/s²\"},\n",
    "    \"grav_z\":       {\"label\": \"GRAVITY Z (m/s²)\",               \"units\": \"m/s²\"},\n",
    "    \"lin_acc_x\":    {\"label\": \"LINEAR ACCELERATION X (m/s²)\",   \"units\": \"m/s²\"},\n",
    "    \"lin_acc_y\":    {\"label\": \"LINEAR ACCELERATION Y (m/s²)\",   \"units\": \"m/s²\"},\n",
    "    \"lin_acc_z\":    {\"label\": \"LINEAR ACCELERATION Z (m/s²)\",   \"units\": \"m/s²\"},\n",
    "    \"gyro_x\":       {\"label\": \"GYROSCOPE X (°/s)\",              \"units\": \"°/s\"},\n",
    "    \"gyro_y\":       {\"label\": \"GYROSCOPE Y (°/s)\",              \"units\": \"°/s\"},\n",
    "    \"gyro_z\":       {\"label\": \"GYROSCOPE Z (°/s)\",              \"units\": \"°\"},\n",
    "    \"light\":        {\"label\": \"LIGHT (lux)\",                    \"units\": \"lux\"},\n",
    "    \"magn_x\":       {\"label\": \"MAGNETIC FIELD X (μT)\",          \"units\": \"μT\"},\n",
    "    \"magn_y\":       {\"label\": \"MAGNETIC FIELD Y (μT)\",          \"units\": \"μT\"},\n",
    "    \"magn_z\":       {\"label\": \"MAGNETIC FIELD Z (μT)\",          \"units\": \"μT\"},\n",
    "    \"orien_z\":      {\"label\": \"ORIENTATION Z (azimuth °)\",      \"units\": \"azimuth °\"},\n",
    "    \"orien_x\":      {\"label\": \"ORIENTATION X (pitch °)\",        \"units\": \"pitch °\"},\n",
    "    \"orien_y\":      {\"label\": \"ORIENTATION Y (roll °)\",         \"units\": \"roll °\"},\n",
    "    \"prox\":         {\"label\": \"PROXIMITY (m)\",                  \"units\": \"m\"},\n",
    "    \"sound\":        {\"label\": \"SOUND LEVEL (dB)\",               \"units\": \"dB\"},\n",
    "    \"latitude\":     {\"label\": \"LOCATION Latitude\",              \"units\": \"latitude\"},\n",
    "    \"longitude\":    {\"label\": \"LOCATION Longitude\",             \"units\": \"longitude\"},\n",
    "    \"altitude\":     {\"label\": \"LOCATION Altitude ( m)\",         \"units\": \"m\"},\n",
    "    \"altit_google\": {\"label\": \"LOCATION Altitude-google ( m)\",  \"units\": \"m\"},\n",
    "    \"speed\":        {\"label\": \"LOCATION Speed ( m/s)\",          \"units\": \"m/s\"},\n",
    "    \"accuracy\":     {\"label\": \"LOCATION Accuracy ( m)\",         \"units\": \"m\"},\n",
    "    \"orient\":       {\"label\": \"LOCATION ORIENTATION (°)\",       \"units\": \"°\"},\n",
    "    \"satellites\":   {\"label\": \"Satellites in range\",            \"units\": \"sat_num\"},\n",
    "    \"time\":         {\"label\": \"Time since start in ms\",         \"units\": \"ms\"},\n",
    "    \"time_stamp\":   {\"label\": \"YYYY-MO-DD HH-MI-S_SSS\",         \"units\": \"YYYY-MO-DD HH-MI-S_SSS\"}\n",
    "}"
   ],
   "metadata": {
    "collapsed": false,
    "pycharm": {
     "name": "#%%\n"
    }
   }
  },
  {
   "cell_type": "code",
   "execution_count": null,
   "outputs": [],
   "source": [
    "data_dir = \"../data/adro_sensor_rec/\"\n",
    "run_and_stay = pd.read_csv(data_dir + \"run_and_stay.csv\")\n",
    "stay_one_minute = pd.read_csv(data_dir + \"stay_one_minute.csv\")\n",
    "walk_and_stay = pd.read_csv(data_dir + \"walk_and_stay.csv\")\n",
    "\n",
    "print(\"stay_one_minute duration:\", get_duration_of_signal(stay_one_minute), csv_filed_infos['time']['units'])\n",
    "print(\"walk_and_stay duration:\".ljust(25), get_duration_of_signal(walk_and_stay), csv_filed_infos['time']['units'])\n",
    "print(\"run_and_stay duration:\".ljust(25), get_duration_of_signal(run_and_stay), csv_filed_infos['time']['units'])\n",
    "\n",
    "\n",
    "run_and_stay.head(5)"
   ],
   "metadata": {
    "collapsed": false,
    "pycharm": {
     "name": "#%%\n"
    }
   }
  },
  {
   "cell_type": "code",
   "execution_count": null,
   "outputs": [],
   "source": [
    "run_and_stay.describe()\n"
   ],
   "metadata": {
    "collapsed": false,
    "pycharm": {
     "name": "#%%\n"
    }
   }
  },
  {
   "cell_type": "markdown",
   "source": [
    "### Clean the data\n",
    "\n",
    "Delete unused data, and empty data columns from the dataset."
   ],
   "metadata": {
    "collapsed": false
   }
  },
  {
   "cell_type": "code",
   "execution_count": null,
   "outputs": [],
   "source": [
    "run_and_stay.isnull().sum()"
   ],
   "metadata": {
    "collapsed": false,
    "pycharm": {
     "name": "#%%\n"
    }
   }
  },
  {
   "cell_type": "markdown",
   "source": [
    "Drop localization columns, as the GPS module was probably not enabled."
   ],
   "metadata": {
    "collapsed": false
   }
  },
  {
   "cell_type": "code",
   "execution_count": null,
   "outputs": [],
   "source": [
    "columns_to_drop = [\"latitude\", \"longitude\", \"altitude\", \"altit_google\", \"speed\", \"accuracy\", \"orient\"]\n",
    "run_and_stay.drop(columns=columns_to_drop)\n",
    "stay_one_minute.drop(columns=columns_to_drop)\n",
    "walk_and_stay.drop(columns=columns_to_drop)\n",
    "\n",
    "run_and_stay.columns"
   ],
   "metadata": {
    "collapsed": false,
    "pycharm": {
     "name": "#%%\n"
    }
   }
  },
  {
   "cell_type": "markdown",
   "source": [
    "Select needed columns."
   ],
   "metadata": {
    "collapsed": false
   }
  },
  {
   "cell_type": "code",
   "execution_count": null,
   "outputs": [],
   "source": [
    "run_and_stay = run_and_stay[[\n",
    "                 'accel_x','accel_y', 'accel_z',\n",
    "                 'gyro_x', 'gyro_y', 'gyro_z',\n",
    "                 'time']]\n",
    "stay_one_minute = stay_one_minute[[\n",
    "                 'accel_x','accel_y', 'accel_z',\n",
    "                 'gyro_x', 'gyro_y', 'gyro_z',\n",
    "                 'time']]\n",
    "walk_and_stay = walk_and_stay[[\n",
    "                 'accel_x','accel_y', 'accel_z',\n",
    "                 'gyro_x', 'gyro_y', 'gyro_z',\n",
    "                 'time']]\n",
    "\n",
    "walk_and_stay.head(5)\n"
   ],
   "metadata": {
    "collapsed": false,
    "pycharm": {
     "name": "#%%\n"
    }
   }
  },
  {
   "cell_type": "markdown",
   "source": [
    "### Accelerometer data plotting"
   ],
   "metadata": {
    "collapsed": false
   }
  },
  {
   "cell_type": "code",
   "execution_count": null,
   "outputs": [],
   "source": [
    "def plot_accel(dataset: pd.DataFrame, ax_local, n_prefix: str):\n",
    "    time = dataset['time'].to_numpy()\n",
    "    dataset = dataset[[f'accel_{n_prefix}']].to_numpy()\n",
    "    ax_local.plot(time, dataset, 'b-', linewidth=1)\n",
    "\n",
    "    ax_local.set_title(f'Acceleration on {n_prefix.upper()} axes')\n",
    "    ax_local.set_xlabel(f'Time, {csv_filed_infos[\"time\"][\"units\"]}')\n",
    "    ax_local.set_ylabel(f'Acceleration, {csv_filed_infos[f\"accel_{n_prefix.lower()}\"][\"units\"]}')   # relative to plt.rcParams['font.size']\n",
    "    ax_local.set(ylim=(dataset.min(), dataset.max()))"
   ],
   "metadata": {
    "collapsed": false,
    "pycharm": {
     "name": "#%%\n"
    }
   }
  },
  {
   "cell_type": "markdown",
   "source": [
    "#### Stay one minute data"
   ],
   "metadata": {
    "collapsed": false
   }
  },
  {
   "cell_type": "code",
   "execution_count": null,
   "outputs": [],
   "source": [
    "_fig, ax1 = plt.subplots(nrows=3, ncols=1, constrained_layout=True, figsize=(10,15))\n",
    "\n",
    "plot_accel(stay_one_minute, ax1[0], 'x')\n",
    "plot_accel(stay_one_minute, ax1[1], 'y')\n",
    "plot_accel(stay_one_minute, ax1[2], 'z')\n",
    "\n",
    "plt.show()"
   ],
   "metadata": {
    "collapsed": false,
    "pycharm": {
     "name": "#%%\n"
    }
   }
  },
  {
   "cell_type": "markdown",
   "source": [
    "#### Walk and Stay data"
   ],
   "metadata": {
    "collapsed": false
   }
  },
  {
   "cell_type": "code",
   "execution_count": null,
   "outputs": [],
   "source": [
    "_fig, ax2 = plt.subplots(nrows=3, ncols=1, constrained_layout=True, figsize=(10,15))\n",
    "\n",
    "plot_accel(walk_and_stay, ax2[0], 'x')\n",
    "plot_accel(walk_and_stay, ax2[1], 'y')\n",
    "plot_accel(walk_and_stay, ax2[2], 'z')\n",
    "\n",
    "plt.show()"
   ],
   "metadata": {
    "collapsed": false,
    "pycharm": {
     "name": "#%%\n"
    }
   }
  },
  {
   "cell_type": "markdown",
   "source": [
    "#### Run and Stay data"
   ],
   "metadata": {
    "collapsed": false
   }
  },
  {
   "cell_type": "code",
   "execution_count": null,
   "outputs": [],
   "source": [
    "_fig, ax3 = plt.subplots(nrows=3, ncols=1, constrained_layout=True, figsize=(10,15))\n",
    "\n",
    "plot_accel(run_and_stay, ax3[0], 'x')\n",
    "plot_accel(run_and_stay, ax3[1], 'y')\n",
    "plot_accel(run_and_stay, ax3[2], 'z')\n",
    "\n",
    "plt.show()\n"
   ],
   "metadata": {
    "collapsed": false,
    "pycharm": {
     "name": "#%%\n"
    }
   }
  },
  {
   "cell_type": "markdown",
   "source": [
    "### Gyroscope data plotting"
   ],
   "metadata": {
    "collapsed": false
   }
  },
  {
   "cell_type": "code",
   "execution_count": null,
   "outputs": [],
   "source": [
    "def plot_gyro(dataset: pd.DataFrame, ax_local, n_prefix: str):\n",
    "    time = dataset['time'].to_numpy()\n",
    "    dataset = dataset[[f'gyro_{n_prefix}']].to_numpy()\n",
    "    ax_local.plot(time, dataset, 'b-', linewidth=1)\n",
    "\n",
    "    ax_local.set_title(f'Acceleration on {n_prefix.upper()} axes')\n",
    "    ax_local.set_xlabel(f'Time, {csv_filed_infos[\"time\"][\"units\"]}')\n",
    "    ax_local.set_ylabel(f'Acceleration, {csv_filed_infos[f\"gyro_{n_prefix.lower()}\"][\"units\"]}')   # relative to plt.rcParams['font.size']\n",
    "    ax_local.set(ylim=(dataset.min(), dataset.max()))"
   ],
   "metadata": {
    "collapsed": false,
    "pycharm": {
     "name": "#%%\n"
    }
   }
  },
  {
   "cell_type": "markdown",
   "source": [
    "#### Stay one minute data"
   ],
   "metadata": {
    "collapsed": false
   }
  },
  {
   "cell_type": "code",
   "execution_count": null,
   "outputs": [],
   "source": [
    "_fig, ax1 = plt.subplots(nrows=3, ncols=1, constrained_layout=True, figsize=(10,15))\n",
    "\n",
    "plot_gyro(stay_one_minute, ax1[0], 'x')\n",
    "plot_gyro(stay_one_minute, ax1[1], 'y')\n",
    "plot_gyro(stay_one_minute, ax1[2], 'z')\n",
    "\n",
    "plt.show()"
   ],
   "metadata": {
    "collapsed": false,
    "pycharm": {
     "name": "#%%\n"
    }
   }
  },
  {
   "cell_type": "markdown",
   "source": [
    "#### Walk and Stay data"
   ],
   "metadata": {
    "collapsed": false
   }
  },
  {
   "cell_type": "code",
   "execution_count": null,
   "outputs": [],
   "source": [
    "_fig, ax2 = plt.subplots(nrows=3, ncols=1, constrained_layout=True, figsize=(10,15))\n",
    "\n",
    "plot_gyro(walk_and_stay, ax2[0], 'x')\n",
    "plot_gyro(walk_and_stay, ax2[1], 'y')\n",
    "plot_gyro(walk_and_stay, ax2[2], 'z')\n",
    "\n",
    "plt.show()"
   ],
   "metadata": {
    "collapsed": false,
    "pycharm": {
     "name": "#%%\n"
    }
   }
  },
  {
   "cell_type": "markdown",
   "source": [
    "#### Run and Stay data"
   ],
   "metadata": {
    "collapsed": false
   }
  },
  {
   "cell_type": "code",
   "execution_count": null,
   "outputs": [],
   "source": [
    "_fig, ax3 = plt.subplots(nrows=3, ncols=1, constrained_layout=True, figsize=(10,15))\n",
    "\n",
    "plot_gyro(run_and_stay, ax3[0], 'x')\n",
    "plot_gyro(run_and_stay, ax3[1], 'y')\n",
    "plot_gyro(run_and_stay, ax3[2], 'z')\n",
    "\n",
    "plt.show()\n"
   ],
   "metadata": {
    "collapsed": false,
    "pycharm": {
     "name": "#%%\n"
    }
   }
  },
  {
   "cell_type": "markdown",
   "source": [
    "## Part 2: Sound signals\n",
    "\n",
    "Source used: [link](https://www.geeksforgeeks.org/create-a-voice-recorder-using-python/)"
   ],
   "metadata": {
    "collapsed": false
   }
  },
  {
   "cell_type": "markdown",
   "source": [
    "# COULD NOT FINISH THE TASK. CAN NOT WORK WITH THE MICRO"
   ],
   "metadata": {
    "collapsed": false
   }
  },
  {
   "cell_type": "code",
   "execution_count": null,
   "outputs": [],
   "source": [
    "# import sounddevice as sd\n",
    "# from scipy.io.wavfile import write"
   ],
   "metadata": {
    "collapsed": false,
    "pycharm": {
     "name": "#%%\n"
    }
   }
  },
  {
   "cell_type": "markdown",
   "source": [
    "#### Set up recording configuration"
   ],
   "metadata": {
    "collapsed": false
   }
  },
  {
   "cell_type": "code",
   "execution_count": null,
   "outputs": [],
   "source": [
    "# Sampling frequency\n",
    "# freq_8k = 8_000\n",
    "# freq_44_1k = 44_100\n",
    "\n",
    "# Recording duration\n",
    "# duration = 5  # sec"
   ],
   "metadata": {
    "collapsed": false,
    "pycharm": {
     "name": "#%%\n"
    }
   }
  },
  {
   "cell_type": "markdown",
   "source": [
    "#### Record the sounds"
   ],
   "metadata": {
    "collapsed": false
   }
  },
  {
   "cell_type": "code",
   "execution_count": null,
   "outputs": [],
   "source": [
    "# Start recorder with the given values of duration and sample frequency\n",
    "# recording = sd.rec(int(duration * freq_44_1k), samplerate=freq_44_1k, channels=1, blocking=True)\n",
    "\n",
    "# Record audio for the given number of seconds\n",
    "# sd.wait()"
   ],
   "metadata": {
    "collapsed": false,
    "pycharm": {
     "name": "#%%\n"
    }
   }
  },
  {
   "cell_type": "markdown",
   "source": [
    "#### Save recordings to the File System"
   ],
   "metadata": {
    "collapsed": false
   }
  },
  {
   "cell_type": "code",
   "execution_count": null,
   "outputs": [],
   "source": [
    "# This will convert the NumPy array to an audio file with the given sampling frequency\n",
    "# write(\"recording0.wav\", freq_8k, recording)\n"
   ],
   "metadata": {
    "collapsed": false,
    "pycharm": {
     "name": "#%%\n"
    }
   }
  },
  {
   "cell_type": "markdown",
   "source": [
    "## Part 3: EEG"
   ],
   "metadata": {
    "collapsed": false
   }
  },
  {
   "cell_type": "code",
   "execution_count": null,
   "outputs": [],
   "source": [
    "def get_signal_time(signal: np.array, freq):\n",
    "    return len(signal) / freq"
   ],
   "metadata": {
    "collapsed": false,
    "pycharm": {
     "name": "#%%\n"
    }
   }
  },
  {
   "cell_type": "code",
   "execution_count": null,
   "outputs": [],
   "source": [
    "eeg_healthy = spio.loadmat('/home/fenix/pr/biosignal/lab_1_visualization/data/eeg_healthy_15.mat', squeeze_me=True)['sig']\n",
    "eeg_sick = spio.loadmat('/home/fenix/pr/biosignal/lab_1_visualization/data/eeg_sick_15.mat', squeeze_me=True)['sig']\n",
    "eeg_freq = 244\n",
    "\n",
    "print(f\"EEG of healthy person duration: {round(get_signal_time(eeg_healthy, eeg_freq), 2)} s\")\n",
    "print(f\"EEG of sick person duration:    {round(get_signal_time(eeg_sick, eeg_freq), 2)} s\")"
   ],
   "metadata": {
    "collapsed": false,
    "pycharm": {
     "name": "#%%\n"
    }
   }
  },
  {
   "cell_type": "code",
   "execution_count": null,
   "outputs": [],
   "source": [
    "t = np.linspace(0, get_signal_time(eeg_healthy, eeg_freq), len(eeg_healthy))\n",
    "h_eeg_line = plt.plot(t, eeg_healthy, label='healthy')\n",
    "s_eeg_line = plt.plot(t, eeg_sick, label='sick')\n",
    "plt.title(\"EEG plot\")\n",
    "plt.xlabel('Time, s')\n",
    "plt.ylabel('Voltage, uV')\n",
    "plt.legend()\n",
    "plt.show()"
   ],
   "metadata": {
    "collapsed": false,
    "pycharm": {
     "name": "#%%\n"
    }
   }
  },
  {
   "cell_type": "markdown",
   "source": [
    "#### Save EEG to File"
   ],
   "metadata": {
    "collapsed": false
   }
  },
  {
   "cell_type": "code",
   "execution_count": null,
   "outputs": [],
   "source": [
    "import pickle\n",
    "\n",
    "with open('../data/eeg_healthy.pyobj', 'wb+') as f_healthy:\n",
    "    pickle.dump(eeg_healthy, f_healthy)\n",
    "with open('../data/eeg_sick.pyobj', 'wb+') as f_healthy:\n",
    "    pickle.dump(eeg_sick, f_healthy)\n",
    "\n",
    "print(\"EEG py-data: stored\")"
   ],
   "metadata": {
    "collapsed": false,
    "pycharm": {
     "name": "#%%\n"
    }
   }
  },
  {
   "cell_type": "markdown",
   "source": [
    "## Part 4: EKG"
   ],
   "metadata": {
    "collapsed": false
   }
  },
  {
   "cell_type": "code",
   "execution_count": null,
   "outputs": [],
   "source": [
    "from dataclasses import dataclass\n",
    "\n",
    "@dataclass\n",
    "class EKG_Data:\n",
    "    fs: int\n",
    "    units: str\n",
    "    signal: np.ndarray\n",
    "    labels: np.ndarray\n",
    "    labels_indexes: np.ndarray\n",
    "    source_start: np.ndarray\n",
    "    source_end: np.ndarray"
   ],
   "metadata": {
    "collapsed": false,
    "pycharm": {
     "name": "#%%\n"
    }
   }
  },
  {
   "cell_type": "markdown",
   "source": [
    "#### Load EKG dataset"
   ],
   "metadata": {
    "collapsed": false
   }
  },
  {
   "cell_type": "code",
   "execution_count": null,
   "outputs": [],
   "source": [
    "with open('/home/fenix/pr/biosignal/lab_1_visualization/data/norm_1600716798.npz', 'rb') as f_norm:\n",
    "    ekg_norm_npz = np.load(f_norm)\n",
    "    ekg_norm = EKG_Data(\n",
    "    ekg_norm_npz['fs'].item(0),\n",
    "    ekg_norm_npz['units'].item(0),\n",
    "    ekg_norm_npz['signal'],\n",
    "    ekg_norm_npz['labels'],\n",
    "    ekg_norm_npz['labels_indexes'],\n",
    "    ekg_norm_npz['source_start'],\n",
    "    ekg_norm_npz['source_end']\n",
    "    )\n",
    "\n",
    "with open('/home/fenix/pr/biosignal/lab_1_visualization/data/anomaly_1600718614.npz', 'rb') as f_anomaly:\n",
    "    ekg_anomaly_npz = np.load(f_anomaly)\n",
    "    ekg_anomaly = EKG_Data(\n",
    "    ekg_anomaly_npz['fs'].item(0),\n",
    "    ekg_anomaly_npz['units'].item(0),\n",
    "    ekg_anomaly_npz['signal'],\n",
    "    ekg_anomaly_npz['labels'],\n",
    "    ekg_anomaly_npz['labels_indexes'],\n",
    "    ekg_anomaly_npz['source_start'],\n",
    "    ekg_anomaly_npz['source_end']\n",
    "    )\n",
    "\n",
    "print(\"EKG data loaded\")"
   ],
   "metadata": {
    "collapsed": false,
    "pycharm": {
     "name": "#%%\n"
    }
   }
  },
  {
   "cell_type": "code",
   "execution_count": null,
   "outputs": [],
   "source": [
    "def plot_ekg(data: EKG_Data):\n",
    "    t = np.linspace(0, get_signal_time(data.signal, data.fs), data.signal.size)\n",
    "\n",
    "    plt.figure(figsize=(15, 7))\n",
    "\n",
    "    plt.plot(t, data.signal)\n",
    "    plt.title(\"EKG plot\")\n",
    "    plt.xlabel('Time, s')\n",
    "    plt.ylabel(f'Voltage, {data.units}')\n",
    "    for label, x, y in zip(data.labels, t[data.labels_indexes], data.signal[data.labels_indexes]):\n",
    "        plt.annotate(\n",
    "            label,\n",
    "            xy=(x, y),\n",
    "            xytext=(-20, 20),\n",
    "            textcoords='offset points', ha='right', va='bottom',\n",
    "            bbox=dict(boxstyle='round,pad=0.5', fc='yellow', alpha=0.5),\n",
    "            arrowprops=dict(arrowstyle = '->', connectionstyle='arc3,rad=0')\n",
    "        )\n",
    "    plt.show()"
   ],
   "metadata": {
    "collapsed": false,
    "pycharm": {
     "name": "#%%\n"
    }
   }
  },
  {
   "cell_type": "markdown",
   "source": [
    "#### Plot normal EKG"
   ],
   "metadata": {
    "collapsed": false
   }
  },
  {
   "cell_type": "code",
   "execution_count": null,
   "outputs": [],
   "source": [
    "plot_ekg(ekg_norm)"
   ],
   "metadata": {
    "collapsed": false,
    "pycharm": {
     "name": "#%%\n"
    }
   }
  },
  {
   "cell_type": "markdown",
   "source": [
    "#### Plot EKG with anomalies"
   ],
   "metadata": {
    "collapsed": false
   }
  },
  {
   "cell_type": "code",
   "execution_count": null,
   "outputs": [],
   "source": [
    "plot_ekg(ekg_anomaly)"
   ],
   "metadata": {
    "collapsed": false,
    "pycharm": {
     "name": "#%%\n"
    }
   }
  },
  {
   "cell_type": "markdown",
   "source": [
    "## Part 5: Cardiorhythmograms"
   ],
   "metadata": {
    "collapsed": false
   }
  },
  {
   "cell_type": "markdown",
   "source": [
    "### Load Data"
   ],
   "metadata": {
    "collapsed": false
   }
  },
  {
   "cell_type": "code",
   "execution_count": null,
   "outputs": [],
   "source": [
    "hr_norm = spio.loadmat('/home/fenix/pr/biosignal/lab_1_visualization/data/heart_rate_norm.mat', squeeze_me=True)['hr_norm']\n",
    "hr_ap = spio.loadmat('/home/fenix/pr/biosignal/lab_1_visualization/data/heart_rate_apnea.mat', squeeze_me=True)['hr_ap']\n",
    "\n",
    "hr_norm"
   ],
   "metadata": {
    "collapsed": false,
    "pycharm": {
     "name": "#%%\n"
    }
   }
  },
  {
   "cell_type": "code",
   "execution_count": null,
   "outputs": [],
   "source": [
    "def get_hr_duration(data) -> int:\n",
    "    return data.sum()"
   ],
   "metadata": {
    "collapsed": false,
    "pycharm": {
     "name": "#%%\n"
    }
   }
  },
  {
   "cell_type": "markdown",
   "source": [
    "### Signals durations"
   ],
   "metadata": {
    "collapsed": false
   }
  },
  {
   "cell_type": "code",
   "execution_count": null,
   "outputs": [],
   "source": [
    "print('Normal heart rate:', get_hr_duration(hr_norm), 'ms')\n",
    "print('Apnea heart rate: ', get_hr_duration(hr_ap), 'ms')"
   ],
   "metadata": {
    "collapsed": false,
    "pycharm": {
     "name": "#%%\n"
    }
   }
  },
  {
   "cell_type": "markdown",
   "source": [
    "### Interpolate and plot"
   ],
   "metadata": {
    "collapsed": false
   }
  },
  {
   "cell_type": "code",
   "execution_count": null,
   "outputs": [],
   "source": [
    "from scipy import interpolate\n",
    "plt.figure(figsize=(17, 7))\n",
    "def plot_hr(hr_data, label):\n",
    "    t = np.cumsum(hr_data)\n",
    "    f = interpolate.interp1d(t , hr_data)\n",
    "\n",
    "    xnew = np.arange(hr_data.item(0), int(get_hr_duration(hr_data)), 1000)\n",
    "    ynew = f(xnew)   # use interpolation function returned by `interp1d`\n",
    "\n",
    "    plt.plot(xnew, ynew,'-', label=label)\n",
    "\n",
    "    plt.title(\"Heard rate plot\")\n",
    "    plt.xlabel('Time, ms')\n",
    "    plt.ylabel(f'Rate, mHz')\n",
    "\n",
    "plot_hr(hr_norm, 'hr_norm')\n",
    "plot_hr(hr_ap, 'hr_ap')\n",
    "plt.legend()\n",
    "plt.show()"
   ],
   "metadata": {
    "collapsed": false,
    "pycharm": {
     "name": "#%%\n"
    }
   }
  },
  {
   "cell_type": "markdown",
   "source": [
    "## Part 6: Stabilogram"
   ],
   "metadata": {
    "collapsed": false
   }
  },
  {
   "cell_type": "code",
   "execution_count": null,
   "outputs": [],
   "source": [
    "header = ['time_ms', 'top_left_f_kg', 'top_right_f_kg', 'bottom_left_f_kg', 'bottom_right_f_kg',\n",
    "          'cop_x', 'cop_y', 'total_f']\n",
    "\n",
    "base_close_acrob_files = [f'/home/fenix/pr/biosignal/lab_1_visualization/data/acrobats/base_close/{i}.csv'\n",
    "                          for i in range(1, 12)]\n",
    "base_close_handb_files = [f'/home/fenix/pr/biosignal/lab_1_visualization/data/handball/base_close/{i}.csv'\n",
    "                          for i in range(1, 12)]\n",
    "\n",
    "base_open_acrob_files = [f'/home/fenix/pr/biosignal/lab_1_visualization/data/acrobats/base_open/{i}.csv'\n",
    "                          for i in range(1, 12)]\n",
    "base_open_handb_files = [f'/home/fenix/pr/biosignal/lab_1_visualization/data/handball/base_open/{i}.csv'\n",
    "                          for i in range(1, 12)]\n",
    "\n",
    "def read_stabilogram(f_path: str):\n",
    "    data = pd.read_csv(f_path, delim_whitespace=True, header=None, names=header)\n",
    "    data['time_ms'] = data['time_ms'] - data['time_ms'].iloc[0]\n",
    "    return data\n",
    "\n",
    "base_close_acrobats = read_stabilogram(base_close_acrob_files[0])\n",
    "base_close_handball = read_stabilogram(base_close_handb_files[0])\n",
    "\n",
    "base_open_acrobats = read_stabilogram(base_open_acrob_files[0])\n",
    "base_open_handball = read_stabilogram(base_open_handb_files[0])\n",
    "\n",
    "base_open_handball.head()"
   ],
   "metadata": {
    "collapsed": false,
    "pycharm": {
     "name": "#%%\n"
    }
   }
  },
  {
   "cell_type": "code",
   "execution_count": null,
   "outputs": [],
   "source": [
    "def cop_plot(data_acrob, data_handb, axis: str):\n",
    "    plt.figure(figsize=(15, 7))\n",
    "\n",
    "    plt.plot(data_acrob['time_ms'], data_acrob[f'cop_{axis}'], label='acrobats')\n",
    "    plt.plot(data_handb['time_ms'], data_handb[f'cop_{axis}'], label='handball')\n",
    "\n",
    "    plt.title(f\"CoP {axis.upper()} axis through Time\")\n",
    "    plt.xlabel('Time, ms')\n",
    "    plt.ylabel('Center-of-Pressure')\n",
    "    plt.legend()\n",
    "    plt.show()"
   ],
   "metadata": {
    "collapsed": false,
    "pycharm": {
     "name": "#%%\n"
    }
   }
  },
  {
   "cell_type": "markdown",
   "source": [
    "### Base Close plot"
   ],
   "metadata": {
    "collapsed": false
   }
  },
  {
   "cell_type": "code",
   "execution_count": null,
   "outputs": [],
   "source": [
    "cop_plot(base_close_acrobats, base_close_handball, 'x')\n",
    "cop_plot(base_close_acrobats, base_close_handball, 'y')"
   ],
   "metadata": {
    "collapsed": false,
    "pycharm": {
     "name": "#%%\n"
    }
   }
  },
  {
   "cell_type": "markdown",
   "source": [
    "### Base Ppen plot"
   ],
   "metadata": {
    "collapsed": false
   }
  },
  {
   "cell_type": "code",
   "execution_count": null,
   "outputs": [],
   "source": [
    "cop_plot(base_open_acrobats, base_open_handball, 'x')\n",
    "cop_plot(base_open_acrobats, base_open_handball, 'y')"
   ],
   "metadata": {
    "collapsed": false,
    "pycharm": {
     "name": "#%%\n"
    }
   }
  },
  {
   "cell_type": "markdown",
   "source": [
    "### Select test to analyze\n",
    "    \n",
    "I whould like to choose tests **base_close** and **base_open**, to take into investigation the influence of eye view except coordination."
   ],
   "metadata": {
    "collapsed": false
   }
  },
  {
   "cell_type": "markdown",
   "source": [
    "### Statistics"
   ],
   "metadata": {
    "collapsed": false
   }
  },
  {
   "cell_type": "code",
   "execution_count": null,
   "outputs": [],
   "source": [
    "base_close_acrob_stat = pd.DataFrame()\n",
    "\n",
    "stat_keys = ['mean_x', 'std_x', 'median_x', 'mean_y', 'std_y', 'median_y']\n",
    "for f_path in base_close_acrob_files:\n",
    "    el = read_stabilogram(f_path)\n",
    "    tmp_stat = el.describe()\n",
    "\n",
    "    data = pd.Series((tmp_stat['cop_x']['mean'], tmp_stat['cop_x']['std'], np.median(el['cop_x']),\n",
    "               tmp_stat['cop_y']['mean'], tmp_stat['cop_y']['std'], np.median(el['cop_y'])),\n",
    "              index=stat_keys)\n",
    "    \n",
    "    index = f_path.split('/')[-1]\n",
    "    base_close_acrob_stat.insert(int(index.split('.')[0]) - 1, index, data, True)\n",
    "    \n",
    "base_close_acrob_stat"
   ],
   "metadata": {
    "collapsed": false,
    "pycharm": {
     "name": "#%%\n"
    }
   }
  },
  {
   "cell_type": "code",
   "execution_count": null,
   "outputs": [],
   "source": [
    "stat_keys = ['mean_x', 'std_x', 'median_x', 'mean_y', 'std_y', 'median_y']\n",
    "def get_cop_stat(files):\n",
    "    df = pd.DataFrame()\n",
    "    \n",
    "    for f_path in files:\n",
    "        el = read_stabilogram(f_path)\n",
    "        tmp_stat = el.describe()\n",
    "\n",
    "        data = pd.Series((tmp_stat['cop_x']['mean'], tmp_stat['cop_x']['std'], np.median(el['cop_x']),\n",
    "                   tmp_stat['cop_y']['mean'], tmp_stat['cop_y']['std'], np.median(el['cop_y'])),\n",
    "                  index=stat_keys)\n",
    "\n",
    "        index = f_path.split('/')[-1]\n",
    "        df.insert(int(index.split('.')[0]) - 1, index, data, True)\n",
    "    return df\n",
    "\n",
    "def print_avg_stat(data, title):\n",
    "    print(title.center(30))\n",
    "    print(\"stat\".ljust(10), \"avg value\")\n",
    "    for i, key in enumerate(stat_keys):\n",
    "        print(f\"{key}:\".ljust(10), f\"{np.average(data.iloc[i])}\")\n",
    "\n",
    "base_close_acro_stat = get_cop_stat(base_close_acrob_files)\n",
    "base_close_hand_stat = get_cop_stat(base_close_handb_files)\n",
    "print()\n",
    "print_avg_stat(base_close_acro_stat, \"Base open handb stat\")\n",
    "print_avg_stat(base_close_hand_stat, \"Base open handb stat\")\n",
    "\n",
    "base_open_acrob_stat = get_cop_stat(base_open_acrob_files)\n",
    "base_open_handb_stat = get_cop_stat(base_open_handb_files)\n",
    "print()\n",
    "print_avg_stat(base_open_acrob_stat, \"Base open handb stat\")\n",
    "print_avg_stat(base_open_handb_stat, \"Base open handb stat\")"
   ],
   "metadata": {
    "collapsed": false,
    "pycharm": {
     "name": "#%%\n"
    }
   }
  },
  {
   "cell_type": "markdown",
   "source": [
    "#### Base close Statistics for Acrobats"
   ],
   "metadata": {
    "collapsed": false
   }
  },
  {
   "cell_type": "code",
   "execution_count": null,
   "outputs": [],
   "source": [
    "base_close_acro_stat"
   ],
   "metadata": {
    "collapsed": false,
    "pycharm": {
     "name": "#%%\n"
    }
   }
  },
  {
   "cell_type": "markdown",
   "source": [
    "#### Base close Statistics for Handball Players"
   ],
   "metadata": {
    "collapsed": false
   }
  },
  {
   "cell_type": "code",
   "execution_count": null,
   "outputs": [],
   "source": [
    "base_close_hand_stat"
   ],
   "metadata": {
    "collapsed": false,
    "pycharm": {
     "name": "#%%\n"
    }
   }
  },
  {
   "cell_type": "markdown",
   "source": [
    "#### Base open Statistics for Acrobats"
   ],
   "metadata": {
    "collapsed": false
   }
  },
  {
   "cell_type": "code",
   "execution_count": null,
   "outputs": [],
   "source": [
    "base_open_acrob_stat"
   ],
   "metadata": {
    "collapsed": false,
    "pycharm": {
     "name": "#%%\n"
    }
   }
  },
  {
   "cell_type": "markdown",
   "source": [
    "#### Base open Statistics for Handball Players"
   ],
   "metadata": {
    "collapsed": false
   }
  },
  {
   "cell_type": "code",
   "execution_count": null,
   "outputs": [],
   "source": [
    "base_open_handb_stat"
   ],
   "metadata": {
    "collapsed": false,
    "pycharm": {
     "name": "#%%\n"
    }
   }
  },
  {
   "cell_type": "markdown",
   "source": [
    "### Summary\n",
    "\n",
    "- Acrobates are more stable than handball players. This follows from the greater value of standard deviation for handball players. In simple words, handball players sway more.\n",
    "- The median is the same as the mean. This is an indicator that the data tend to Normal distribution for both types of people.\n",
    "- On axes X, the mean is almost 0 for all participants. But for axes Y, the value is bigger, which can tell that handball players are better prepared to start moving than acrobates. Logically, to start moving forward, we have to move our center of mass ahead to \"fall\" in that direction and then start to make steps."
   ],
   "metadata": {
    "collapsed": false
   }
  },
  {
   "cell_type": "markdown",
   "source": [
    "## Part 7: Heart Rate and SpO2"
   ],
   "metadata": {
    "collapsed": false
   }
  },
  {
   "cell_type": "code",
   "execution_count": null,
   "outputs": [],
   "source": [
    "df = pd.read_csv(\"/home/fenix/pr/biosignal/lab_1_visualization/data/Subject15_SpO2Hr.csv\")\n",
    "\n",
    "# df.rename(columns=['Unnamed: 0', 'Elapsed time(seconds)', 'SpO2(%)', 'hr (bpm)'], inplace = False)\n",
    "df.rename(columns=dict(zip(['Unnamed: 0', 'Elapsed time(seconds)', 'SpO2(%)', 'hr (bpm)'],\n",
    "                           ['0', 'time_s', 'SpO2_pers', 'hr_bpm'])), inplace=True)\n",
    "df.drop(['0'], axis='columns', inplace=True)\n",
    "\n",
    "t = df['time_s'].to_numpy()\n",
    "spo2 = df['SpO2_pers'].to_numpy()\n",
    "hr_bpm = df['hr_bpm'].to_numpy()\n",
    "\n",
    "df"
   ],
   "metadata": {
    "collapsed": false,
    "pycharm": {
     "name": "#%%\n"
    }
   }
  },
  {
   "cell_type": "code",
   "execution_count": null,
   "outputs": [],
   "source": [
    "from copy import deepcopy\n",
    "plt.figure(figsize=(15, 7))\n",
    "spo2_soft = deepcopy(spo2)\n",
    "for i in range(0, len(spo2) + 30, 30):\n",
    "    spo2_soft[i:i + 30] = np.average(spo2_soft[i:i + 30])\n",
    "\n",
    "plt.plot(t, spo2_soft, label=\"spo2_soft\")\n",
    "plt.plot(t, spo2, label = \"spo2\") \n",
    "\n",
    "plt.title(\"SpO2 plot\")\n",
    "plt.xlabel('Time, s')\n",
    "plt.ylabel('SpO2, %')\n",
    "plt.legend()\n",
    "plt.show()"
   ],
   "metadata": {
    "collapsed": false,
    "pycharm": {
     "name": "#%%\n"
    }
   }
  },
  {
   "cell_type": "code",
   "execution_count": null,
   "outputs": [],
   "source": [
    "plt.figure(figsize=(15, 7))\n",
    "hr_bpm_soft = deepcopy(hr_bpm)\n",
    "for i in range(0, len(hr_bpm) + 30, 30):\n",
    "    hr_bpm_soft[i:i + 30] = np.average(hr_bpm_soft[i:i + 30])\n",
    "\n",
    "plt.plot(t, hr_bpm_soft, label=\"spo2_soft\")\n",
    "plt.plot(t, hr_bpm, label = \"spo2\") \n",
    "\n",
    "plt.title(\"HR plot\")\n",
    "plt.xlabel('Time, s')\n",
    "plt.ylabel('HR, bpm')\n",
    "plt.legend()\n",
    "plt.show()"
   ],
   "metadata": {
    "collapsed": false,
    "pycharm": {
     "name": "#%%\n"
    }
   }
  },
  {
   "cell_type": "markdown",
   "source": [
    "## Part 8: Internl presure"
   ],
   "metadata": {
    "collapsed": false
   }
  },
  {
   "cell_type": "code",
   "execution_count": null,
   "outputs": [],
   "source": [
    "df = pd.read_csv('/home/fenix/pr/biosignal/lab_1_visualization/data/TBI_ICP.txt',\n",
    "                 delim_whitespace=True, header=None, names=['presure'])\n",
    "presure = df['presure']\n",
    "pr_freq = 125\n",
    "pr_sign_time = len(presure) / 125\n",
    "print(f\"Total signal time: {pr_sign_time} s\")\n",
    "df"
   ],
   "metadata": {
    "collapsed": false,
    "pycharm": {
     "name": "#%%\n"
    }
   }
  },
  {
   "cell_type": "code",
   "execution_count": null,
   "outputs": [],
   "source": [
    "plt.figure(figsize=(15, 7))\n",
    "t = np.arange(0, pr_sign_time, 1 / pr_freq)\n",
    "plt.plot(t, presure) \n",
    "\n",
    "plt.title(\"Internal presure plot\")\n",
    "plt.xlabel('Time, s')\n",
    "plt.ylabel('Presure, mmHg')\n",
    "\n",
    "plt.show()"
   ],
   "metadata": {
    "collapsed": false,
    "pycharm": {
     "name": "#%%\n"
    }
   }
  },
  {
   "cell_type": "markdown",
   "source": [
    "## Part 9: Internl presure\n",
    "\n",
    "### Побудувати функцію для виводу на графік ділянки сигналів.\n",
    "\n",
    "**Input:** \n",
    "- час початку\n",
    "- закінчення ділянки (в секундах)\n",
    "- вектор з відліками сигналу\n",
    "- частоту дискретизації.\n",
    "\n",
    "**Requirements:**\n",
    "- Передбачити перевірку правильності введення моментів часу\n",
    "- та можливість отримання за допомогою функції **вектору з відліками ділянки сигналу** та **відліками часу**.\n"
   ],
   "metadata": {
    "collapsed": false
   }
  },
  {
   "cell_type": "code",
   "execution_count": null,
   "outputs": [],
   "source": [
    "def plot_signal_segment(signal, start_t, end_t, freq, p_title='Signal plot', p_signal_axes='signal',\n",
    "                        p_size=(15, 7), get_segment=False, extert_plt=False, create_plt=True):\n",
    "    # Validate\n",
    "    tatal_t = len(signal) / freq  # time in sec\n",
    "    if start_t > end_t or end_t > tatal_t:\n",
    "        raise RuntimeError(\"Invalid time range boundaries!\")\n",
    "    \n",
    "    # Data construct\n",
    "    start_i = int(start_t * freq)\n",
    "    end_i = int(end_t * freq)\n",
    "    signal_s = signal[start_i:end_i]\n",
    "    t = np.arange(start_t, end_t, 1 / freq)\n",
    "    \n",
    "    # Plot\n",
    "    if create_plt:\n",
    "        plt.figure(figsize=p_size)\n",
    "    \n",
    "    plt.plot(t, signal_s) \n",
    "\n",
    "    if create_plt:\n",
    "        plt.title(p_title)\n",
    "        plt.xlabel('Time, s')\n",
    "        plt.ylabel(p_signal_axes)\n",
    "    \n",
    "    if not extert_plt:\n",
    "        plt.show()\n",
    "    \n",
    "    if get_segment:\n",
    "        return t, signal_s\n",
    "\n",
    "plot_signal_segment(hr_bpm, 0, 500, 1, p_title='Internal presure plot', p_signal_axes='Presure, mmHg', extert_plt=True)\n",
    "plot_signal_segment(hr_bpm_soft, 0, 500, 1, create_plt=False)"
   ],
   "metadata": {
    "collapsed": false,
    "pycharm": {
     "name": "#%%\n"
    }
   }
  }
 ],
 "metadata": {
  "kernelspec": {
   "display_name": "PyCharm (lab_1_visualization)",
   "language": "python",
   "name": "pycharm-f8a5edcf"
  },
  "language_info": {
   "codemirror_mode": {
    "name": "ipython",
    "version": 3
   },
   "file_extension": ".py",
   "mimetype": "text/x-python",
   "name": "python",
   "nbconvert_exporter": "python",
   "pygments_lexer": "ipython3",
   "version": "3.8.6"
  }
 },
 "nbformat": 4,
 "nbformat_minor": 1
}