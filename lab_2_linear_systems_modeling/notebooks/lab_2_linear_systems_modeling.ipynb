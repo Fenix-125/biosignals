{
 "cells": [
  {
   "cell_type": "markdown",
   "source": [
    "# Lab 2: Linear Systems Modeling\n",
    "\n",
    "### Author: Yuriy Pasichnyk\n"
   ],
   "metadata": {
    "collapsed": false
   }
  },
  {
   "cell_type": "code",
   "execution_count": null,
   "outputs": [],
   "source": [
    "import numpy as np\n",
    "import matplotlib.pyplot as plt\n",
    "from scipy import signal"
   ],
   "metadata": {
    "collapsed": false,
    "pycharm": {
     "name": "#%%\n"
    }
   }
  },
  {
   "cell_type": "code",
   "execution_count": null,
   "outputs": [],
   "source": [
    "def print_signal(data, t, p_title='Signal plot', label=None, p_signal_axes='Voltage, V', extert_plt=False,\n",
    "                        create_plt=True):\n",
    "    # Plot\n",
    "    if create_plt:\n",
    "        plt.figure(figsize=(17, 7))\n",
    "    \n",
    "    plt.plot(t, data, label=label)\n",
    "    \n",
    "    if create_plt:\n",
    "        plt.title(p_title)\n",
    "        plt.xlabel('Time, s')\n",
    "        plt.ylabel(p_signal_axes)\n",
    "        plt.grid(True)\n",
    "    \n",
    "    if not extert_plt:\n",
    "        if label is not None:\n",
    "            plt.legend()\n",
    "        plt.grid(True)\n",
    "        plt.show()\n",
    "\n",
    "def plot_signal_segment(signal, start_t, end_t, freq, p_title='Signal plot', label=None,\n",
    "                        p_signal_axes='signal', p_size=(15, 7), get_segment=False, extert_plt=False,\n",
    "                        create_plt=True):\n",
    "    # Validate\n",
    "    tatal_t = len(signal) / freq # time in sec\n",
    "    if start_t > end_t or end_t > tatal_t:\n",
    "        raise RuntimeError(\"Invalid time range boundaries!\")\n",
    "    \n",
    "    # Data construct\n",
    "    start_i = int(start_t * freq)\n",
    "    end_i = int(end_t * freq)\n",
    "    signal_s = signal[start_i:end_i]\n",
    "    t = np.arange(start_t, end_t - 1 / freq, 1 / freq)\n",
    "    \n",
    "    # Plot\n",
    "    if create_plt:\n",
    "        plt.figure(figsize=p_size)\n",
    "    \n",
    "    plt.plot(t, signal_s, label=label)\n",
    "    \n",
    "    if create_plt:\n",
    "        plt.title(p_title)\n",
    "        plt.xlabel('Time, s')\n",
    "        plt.ylabel(p_signal_axes)\n",
    "    \n",
    "    if not extert_plt:\n",
    "        if label is not None:\n",
    "            plt.legend()\n",
    "        plt.grid(True)\n",
    "        plt.show()\n",
    "    \n",
    "    if get_segment:\n",
    "        return t, signal_s"
   ],
   "metadata": {
    "collapsed": false,
    "pycharm": {
     "name": "#%%\n"
    }
   }
  },
  {
   "cell_type": "markdown",
   "source": [
    "# Моделювання роботи ЛДС з використанням різницевого рівняння."
   ],
   "metadata": {
    "collapsed": false
   }
  },
  {
   "cell_type": "markdown",
   "source": [
    "## Task 1 \n",
    "\n",
    "- В програмі задати вектори a та b коефіцієнтів рекурсивної та нерекурсивної частини ЛДС."
   ],
   "metadata": {
    "collapsed": false
   }
  },
  {
   "cell_type": "code",
   "execution_count": null,
   "outputs": [],
   "source": [
    "def coeffs(d1, d2, m1, m2, p1, p2 , p3, p4):\n",
    "    return (np.array([1, (d1 + d2) / 140, (p2 - d2) / 130, 0, - d1 / 150, (d1- m1) / 150]),  # a\n",
    "            np.array([m1 / 10, (p3- d2) / 20, (m1 - m2) / 20, - p4 / 30, d2 / 20, - m2 / 20]))  # b\n",
    "\n",
    "a, b = coeffs(1, 1, 0, 1, 2, 0, 0, 1)\n",
    "print(\"a coeffs:\", a)\n",
    "print(\"b coeffs:\", b)"
   ],
   "metadata": {
    "collapsed": false,
    "pycharm": {
     "name": "#%%\n"
    }
   }
  },
  {
   "cell_type": "markdown",
   "source": [
    "## Task 2\n",
    "\n",
    "#### Сформувати відліки синусоїдального сигналу:\n",
    "- частоти 10 Гц\n",
    "- тривалістю 1 сек\n",
    "- амплітуди 1 В\n",
    "- дискретизованого з частотою 256 Гц\n",
    "\n",
    "#### Розрахувати реакцію системи на отриманий сигнал (функція lfilter) для двох випадків:\n",
    "- 2.1. нульові початкові умови\n",
    "- 2.2. випадкові початкові умови (скористатися функцією rand)\n",
    "\n",
    "#### Для кожного:\n",
    "- побудувати графіки вхідного та вихідного сигналів в одному вікні\n",
    "- позначивши точки графіку, що відповідають відлікам, та огинаючі графіків.\n",
    "- побудувати в окремому вікні перші 100 мс вхідного та вихідного сигналу.\n",
    "- Зробити висновки щодо вигляду вихідного сигналу відносно вхідного (форма, амплітуда, спотворення, підсилення)."
   ],
   "metadata": {
    "collapsed": false
   }
  },
  {
   "cell_type": "code",
   "execution_count": null,
   "outputs": [],
   "source": [
    "sin_freq = 10  # Hz\n",
    "sin_time = 1  # sec\n",
    "sin_ampl = 1  # V\n",
    "sin_s_freq = 256  # Hz\n",
    "\n",
    "sin_t = np.arange(0., sin_time, 1. / sin_s_freq)\n",
    "sin_s = np.sin(sin_t * 2 * np.pi * sin_freq)\n",
    "\n",
    "print_signal(sin_s, sin_t, \"Sinus Signal n=10Hz\", sin_s_freq)"
   ],
   "metadata": {
    "collapsed": false,
    "pycharm": {
     "name": "#%%\n"
    }
   }
  },
  {
   "cell_type": "code",
   "execution_count": null,
   "outputs": [],
   "source": [
    "cond_leng = max(len(a), len(b)) - 1\n",
    "zero_cond = np.zeros(cond_leng)\n",
    "rand_cond = np.random.rand(cond_leng)\n",
    "\n",
    "sin_z_zero_cond, _ = signal.lfilter(b, a, sin_s, zi=zero_cond)\n",
    "sin_z_rand_cond, _ = signal.lfilter(b, a, sin_s, zi=rand_cond)\n",
    "\n",
    "\n",
    "print_signal(sin_s, sin_t, \"LSM in/out for Sinus Signal with zero conditions\",\n",
    "            label=\"input\", extert_plt=True)\n",
    "print_signal(sin_z_zero_cond, sin_t,\n",
    "            label=\"output\", create_plt=False)\n",
    "\n",
    "print_signal(sin_s, sin_t, \"LSM in/out for Sinus Signal with random conditions\",\n",
    "            label=\"input\", extert_plt=True)\n",
    "print_signal(sin_z_rand_cond, sin_t,\n",
    "            label=\"output\", create_plt=False)"
   ],
   "metadata": {
    "collapsed": false,
    "pycharm": {
     "name": "#%%\n"
    }
   }
  },
  {
   "cell_type": "code",
   "execution_count": null,
   "outputs": [],
   "source": [
    "plot_signal_segment(sin_s, 0, 0.1, sin_s_freq, \"LSM in/out for Sinus Signal with zero conditions [fragment 0-100ms]\",\n",
    "            label=\"input\", extert_plt=True)\n",
    "plot_signal_segment(sin_z_zero_cond, 0, 0.1, sin_s_freq,\n",
    "            label=\"output\", create_plt=False)\n",
    "\n",
    "plot_signal_segment(sin_s, 0, 0.1, sin_s_freq, \"LSM in/out for Sinus Signal with random conditions [fragment 0-100ms]\",\n",
    "            label=\"input\", extert_plt=True)\n",
    "plot_signal_segment(sin_z_rand_cond, 0, 0.1, sin_s_freq,\n",
    "            label=\"output\", create_plt=False)"
   ],
   "metadata": {
    "collapsed": false,
    "pycharm": {
     "name": "#%%\n"
    }
   }
  },
  {
   "cell_type": "markdown",
   "source": [
    "Щодо форма вихідного сигнала то вона далі залишилась синусоподібною та стала стиснутою до вісі часу, тобто амплітуда зменшилась, та відбувся зсув по фазі. На початку ми спостерігаємо спотворення, через установлення синусоїдальних коливань, яких небуло, і системі потрібен певний час, щоб стабілізуватись тому ми спостерігаємо спотворення. Спотворення з рандомними початковими даними є помітніші бо вони набувають більших відхилень від нуля, що прямопропорційно впливає на систему. Спотворення утворюються через те що не всі елементи різнецевого рівнняння вже нормально функціунують через початкові умови, які з часом витісняються тими, які задає сигнал. Ми отримуємо періодичну зміну підсилення на приглушення, яка при плавному стабільному сигналі має форму синусоїди. Система підсилює негативні значення сигналу (притягує їх до нуля) і послаблює позитивні значення сигналу, з відси висновок, що вона є у протифазі до нашого сигналу (візуально видно), але з певним зсувом."
   ],
   "metadata": {
    "collapsed": false
   }
  },
  {
   "cell_type": "markdown",
   "source": [
    "## Task 3\n",
    "\n",
    "Написати програму для визначення коефіцієнту передачі напруги ЛДС на частоті 10 Гц."
   ],
   "metadata": {
    "collapsed": false
   }
  },
  {
   "cell_type": "code",
   "execution_count": null,
   "outputs": [],
   "source": [
    "def trasition_coef(inp, out):\n",
    "    inp_x, inp_y = signal.find_peaks(inp, height=0)\n",
    "    out_x, out_y = signal.find_peaks(out, height=0)\n",
    "    inp_y, out_y = inp_y['peak_heights'], out_y['peak_heights']\n",
    "    filt = inp_y != 0\n",
    "    return np.average(out_y[filt] / inp_y[filt])\n",
    "\n",
    "trasition_coef(sin_s, sin_z_zero_cond)"
   ],
   "metadata": {
    "collapsed": false,
    "pycharm": {
     "name": "#%%\n"
    }
   }
  },
  {
   "cell_type": "markdown",
   "source": [
    "## Task 4\n",
    "\n",
    "- Сформувати два синусоїдальних сигнали частоти 3 та 20 Гц тривалістю 1 с.\n",
    "- Проілюструвати властивість адитивності системи, визначивши реакцію системи:\n",
    "  - спочатку на кожний з сигналів окремо\n",
    "  - на суму цих сигналів. \n",
    "- Проілюструвати властивість однорідності системи.\n",
    "- Навести необхідні графіки."
   ],
   "metadata": {
    "collapsed": false
   }
  },
  {
   "cell_type": "code",
   "execution_count": null,
   "outputs": [],
   "source": [
    "sin_s_3_20_freq = 256\n",
    "sin_time_3_20 = 1\n",
    "\n",
    "sin_t_3_20 = np.arange(0., sin_time_3_20, 1. / sin_s_3_20_freq)\n",
    "\n",
    "sin_f_3 = 3\n",
    "sin_s_3 = np.sin(sin_t_3_20 * 2 * np.pi * sin_f_3)\n",
    "\n",
    "sin_f_20 = 20\n",
    "sin_s_20 = np.sin(sin_t_3_20 * 2 * np.pi * sin_f_20)\n",
    "\n",
    "\n",
    "sin_z3_zero_cond, _ = signal.lfilter(b, a, sin_s_3, zi=zero_cond)\n",
    "sin_z20_zero_cond, _ = signal.lfilter(b, a, sin_s_20, zi=zero_cond)\n",
    "\n",
    "\n",
    "print_signal(sin_s_3, sin_t_3_20, \"LSM in/out for Sinus Signal n=3Hz with zero conditions\",\n",
    "            label=\"input\", extert_plt=True)\n",
    "print_signal(sin_z3_zero_cond, sin_t_3_20,\n",
    "            label=\"output\", create_plt=False)\n",
    "\n",
    "print_signal(sin_s_20, sin_t_3_20, \"LSM in/out for Sinus Signal n=20Hz with zero conditions\",\n",
    "            label=\"input\", extert_plt=True)\n",
    "print_signal(sin_z20_zero_cond, sin_t_3_20,\n",
    "            label=\"output\", create_plt=False)"
   ],
   "metadata": {
    "collapsed": false,
    "pycharm": {
     "name": "#%%\n"
    }
   }
  },
  {
   "cell_type": "code",
   "execution_count": null,
   "outputs": [],
   "source": [
    "print_signal(sin_z20_zero_cond + sin_z3_zero_cond, sin_t_3_20, \"LSM output for sum Sinus Signal n1=20Hz and n2=3Hz with zero conditions\",\n",
    "            label=\"separete influence\", extert_plt=True)\n",
    "print_signal(signal.lfilter(b, a, sin_s_3 + sin_s_20, zi=zero_cond)[0], sin_t_3_20,\n",
    "            label=\"influence on the sum\", create_plt=False)"
   ],
   "metadata": {
    "collapsed": false,
    "pycharm": {
     "name": "#%%\n"
    }
   }
  },
  {
   "cell_type": "markdown",
   "source": [
    "### Summary: LSM satisfy the additivity property"
   ],
   "metadata": {
    "collapsed": false
   }
  },
  {
   "cell_type": "code",
   "execution_count": null,
   "outputs": [],
   "source": [
    "k_mult = 2\n",
    "print_signal(sin_z3_zero_cond * k_mult, sin_t_3_20, \"LSM output for sum Sinus Signal n1=20Hz and n2=3Hz with zero conditions\",\n",
    "            label=\"separete influence\", extert_plt=True)\n",
    "print_signal(signal.lfilter(b, a, sin_s_3 * k_mult , zi=zero_cond)[0], sin_t_3_20,\n",
    "            label=\"influence on the sum\", create_plt=False)"
   ],
   "metadata": {
    "collapsed": false,
    "pycharm": {
     "name": "#%%\n"
    }
   }
  },
  {
   "cell_type": "markdown",
   "source": [
    "  ### Summary: LSM is Homogeous"
   ],
   "metadata": {
    "collapsed": false
   }
  },
  {
   "cell_type": "markdown",
   "source": [
    "## Task 5\n",
    "\n",
    "- Розрахувати за допомогою функції lfilter перші 30 відліків імпульсної характеристики системи\n",
    "    - вхід системи одиничний імпульс \n",
    "    - при нульових початкових умовах скориставшись для цього функцією unit_impulse\n",
    "- Побудувати графіки вхідного та вихідного сигналу (функція stem)."
   ],
   "metadata": {
    "collapsed": false
   }
  },
  {
   "cell_type": "code",
   "execution_count": null,
   "outputs": [],
   "source": [
    "impuls_30 = signal.unit_impulse(30)\n",
    "impuls_ch, _ = signal.lfilter(b, a, impuls_30, zi=zero_cond)\n",
    "\n",
    "plt.figure(figsize=(17, 7))\n",
    "plt.title(\"Impulse characteristic of LSM\")\n",
    "plt.xlabel('Time, s')\n",
    "plt.ylabel(\"Amplitude, V\")\n",
    "plt.grid(True)\n",
    "\n",
    "plt.stem(impuls_30, linefmt='grey', markerfmt='D', label=\"input\")\n",
    "\n",
    "plt.legend()\n",
    "plt.show()\n",
    "\n",
    "plt.figure(figsize=(17, 7))\n",
    "plt.title(\"Impulse characteristic of LSM\")\n",
    "plt.xlabel('Time, s')\n",
    "plt.ylabel(\"Amplitude, V\")\n",
    "plt.grid(True)\n",
    "\n",
    "plt.stem(impuls_ch, label=\"output\")\n",
    "\n",
    "plt.legend()\n",
    "plt.show()"
   ],
   "metadata": {
    "collapsed": false,
    "pycharm": {
     "name": "#%%\n"
    }
   }
  },
  {
   "cell_type": "markdown",
   "source": [
    "## Task 6\n",
    "\n",
    "- Створити систему з використанням коефіцієнтів чисельника і знаменника передавальної функції з використанням функції TransferFunction.\n",
    "- Розрахувати 30 відліків імпульсної характеристики отриманої системи з використанням функції dimpulse.\n",
    "- Порівняти результати з результатами __Task 5__\n",
    "- побудувати графіки\n",
    "- зробити висновки."
   ],
   "metadata": {
    "collapsed": false
   }
  },
  {
   "cell_type": "code",
   "execution_count": null,
   "outputs": [],
   "source": [
    "transf_func = signal.TransferFunction(b, a, dt=1)\n",
    "sys_t, sys_s =  signal.dimpulse(transf_func, n=30)\n",
    "sys_s = np.squeeze(sys_s)\n",
    "plt.figure(figsize=(17, 7))\n",
    "plt.title(\"Impulse characteristic of LSM from TransferFunction\")\n",
    "plt.xlabel('Time, s')\n",
    "plt.ylabel(\"Amplitude, V\")\n",
    "plt.grid(True)\n",
    "plt.stem(sys_t, sys_s, label=\"output\")\n",
    "plt.show()"
   ],
   "metadata": {
    "collapsed": false,
    "pycharm": {
     "name": "#%%\n"
    }
   }
  },
  {
   "cell_type": "markdown",
   "source": [
    "#### Summary:\n",
    "\n",
    "Як і в п.5 ми отримали Імпульсну характеристику. Отже якщо підставити наші коефіцієнти з різнецевого рівняння і вставити в чисельник знаменик перехідної функції (TransferFunction) ми отримаєм одинкавий функціонал системи, який можна задати двома способами. Оскільки імпульсна характеристака унікально описує систему."
   ],
   "metadata": {
    "collapsed": false
   }
  },
  {
   "cell_type": "markdown",
   "source": [
    "# Моделювання роботи ЛДС з використанням рівняння згортки."
   ],
   "metadata": {
    "collapsed": false
   }
  },
  {
   "cell_type": "markdown",
   "source": [
    "## Task 7\n",
    "\n",
    "- Розрахувати реакцію системи на сигнал з п. 2.1 з використанням функції розрахунку згортки convolve.\n",
    "- Побудувати графіки вхідного та вихідного сигналу, аналогічні п. 2.1 (з нульовими початковими умовами).\n",
    "- Всі отримані в п. 7 результати порівняти з п 2.1.\n",
    "- Зробити висновки."
   ],
   "metadata": {
    "collapsed": false
   }
  },
  {
   "cell_type": "code",
   "execution_count": null,
   "outputs": [],
   "source": [
    "sin_s_con = signal.convolve(sin_s, sys_s, 'same')\n",
    "\n",
    "print_signal(sin_s, sin_t, \"LSM input/output for Sinus Signal using convolution method with zero conditions\",\n",
    "            label=\"sin\", extert_plt=True)\n",
    "print_signal(sin_s_con, sin_t, label=\"conv\", create_plt=False)\n",
    "\n",
    "plot_signal_segment(sin_s, 0, 0.1, sin_s_freq, \"LSM input/output for Sinus Signal using convolution method with zero conditionsinput/ [fragment 0-100ms]\",\n",
    "            label=\"input\", extert_plt=True)\n",
    "plot_signal_segment(sin_s_con, 0, 0.1, sin_s_freq, label=\"output\", create_plt=False)"
   ],
   "metadata": {
    "collapsed": false,
    "pycharm": {
     "name": "#%%\n"
    }
   }
  },
  {
   "cell_type": "markdown",
   "source": [
    "#### Summary:\n",
    "\n",
    "За допомогою методу конволюції ми отрималитакий же результат (навіть кращий, щодо початкових умов), єдине що на кінці сигналу ми отримали пошкодження, яке спричинене нестачую наступних значень сигналу. Тобто в загальному використовуючи цей мето ми можем отримати кращі результати спочаку роботи системи і гіріші в кінці. "
   ],
   "metadata": {
    "collapsed": false
   }
  },
  {
   "cell_type": "markdown",
   "source": [
    "# Моделювання роботи ЛДС в частотній області."
   ],
   "metadata": {
    "collapsed": false
   }
  },
  {
   "cell_type": "markdown",
   "source": [
    "## Task 8\n",
    "\n",
    "- Обчислити комплексну частотну характеристику системи з використанням функції freqz\n",
    "- побудувати з її допомогою графіки АЧХ та ФЧХ\n",
    "- Розрахувати 100 значень КЧХ для частоти дискретизації 256 Гц. "
   ],
   "metadata": {
    "collapsed": false
   }
  },
  {
   "cell_type": "code",
   "execution_count": null,
   "outputs": [],
   "source": [
    "def rad_s2hz(rad_s_arr, freq):\n",
    "    return freq * rad_s_arr / np.pi\n",
    "\n",
    "def print_frequency_response_for_n(b, a, n, freq=None):  # КЧХ\n",
    "    w, h = signal.freqz(b, a, worN=n)\n",
    "    if freq is not None:\n",
    "        w = rad_s2hz(w, freq)\n",
    "    plt.figure(figsize=(15,5))\n",
    "    plt.stem(w, np.real(h))\n",
    "    if freq is None:\n",
    "        plt.xlabel('Frequency (rad/sample)')\n",
    "    else:\n",
    "        plt.xlabel('Frequency (Hz)')\n",
    "    plt.ylabel('Frequency response')\n",
    "    plt.title(f'DSM frequency response for n={n}')\n",
    "    plt.grid(True)\n",
    "    plt.show()\n",
    "\n",
    "def print_magniture_response(b, a, freq=None):  # АЧХ\n",
    "    w, h = signal.freqz(b, a)\n",
    "    if freq is not None:\n",
    "        w = rad_s2hz(w, freq)\n",
    "    plt.figure(figsize=(15,5))\n",
    "    plt.plot(w, np.absolute(h))\n",
    "    if freq is None:\n",
    "        plt.xlabel('Frequency (rad/sample)')\n",
    "    else:\n",
    "        plt.xlabel('Frequency (Hz)')\n",
    "    plt.ylabel('Amplitude Response')\n",
    "    plt.title('DSM magniture response')\n",
    "    plt.grid(True)\n",
    "    plt.show()\n",
    "\n",
    "def print_phase_response(b, a, freq=None):    # ФЧХ\n",
    "    w, h = signal.freqz(b, a)\n",
    "    if freq is not None:\n",
    "        w = rad_s2hz(w, freq)\n",
    "    phase = np.unwrap(np.arctan2(np.imag(h), np.real(h)))\n",
    "    plt.figure(figsize=(15,5))\n",
    "    plt.plot(w, phase)\n",
    "    if freq is None:\n",
    "        plt.xlabel('Frequency (rad/sample)')\n",
    "    else:\n",
    "        plt.xlabel('Frequency (Hz)')\n",
    "    plt.ylabel('Phase (radians)')\n",
    "    plt.title('DSM Phase Response')\n",
    "    plt.grid(True)\n",
    "    plt.show()\n",
    "    \n",
    "\n",
    "\n",
    "print_magniture_response(b, a)\n",
    "print_phase_response(b, a)\n",
    "print_frequency_response_for_n(b, a, 100)"
   ],
   "metadata": {
    "collapsed": false,
    "pycharm": {
     "name": "#%%\n"
    }
   }
  },
  {
   "cell_type": "markdown",
   "source": [
    "## Task 9\n",
    "\n",
    "- Визначити програмно проміжки частот, на яких система посилює сигнал (записати у висновках).\n",
    "- Візуально пересвідчитись в правильності визначення коефіцієнта передачі і фазового зміщення, які розраховані в п. 3.\n",
    "- Зробити висновки щодо величини коефіцієнта передачі системи на різних частотах."
   ],
   "metadata": {
    "collapsed": false
   }
  },
  {
   "cell_type": "code",
   "execution_count": null,
   "outputs": [],
   "source": [
    "print_magniture_response(b, a, sin_s_freq)\n",
    "trasition_coef(sin_s, sin_z_zero_cond)"
   ],
   "metadata": {
    "collapsed": false,
    "pycharm": {
     "name": "#%%\n"
    }
   }
  },
  {
   "cell_type": "markdown",
   "source": [
    "По АЧХ чітко видно, що значення на всіх частотах менші за одиницю, що відповідно вказує на те, система завжди послаблює сигнал.\n",
    "\n",
    "Візуально порівнявши функція з п.3 видає такийже же результат\n",
    "\n",
    "На всіх частотах коефіцієнта передачі є меншим одиниці, що свідчить про те що наша система завжди понижує сигнал. Але вона ефективніше понижає такі складові частотного спектру сигналу: 50-80Hz та 75-210Hz"
   ],
   "metadata": {
    "collapsed": false
   }
  },
  {
   "cell_type": "markdown",
   "source": [
    "## Tasl 10 \n",
    "\n",
    "- Побудувати функцію, яка визначає значення АЧХ та ФЧХ системи на довільній частоті.\n",
    "- Перевірити за допомогою отриманої функції правильність розрахунків з п. 2.1, беручи до уваги, що в п.2.1 досліджувався синусоїдальний сигнал з частотою 10 Гц.\n",
    "- Проілюструвати роботу функції для цього сигналу."
   ],
   "metadata": {
    "collapsed": false
   }
  },
  {
   "cell_type": "code",
   "execution_count": null,
   "outputs": [],
   "source": [
    "def get_responses(b, a, signal_freq, samle_freq): # -> АЧХ, ФЧХ\n",
    "    w, h = signal.freqz(b, a)\n",
    "    w = rad_s2hz(w, samle_freq)\n",
    "    \n",
    "    phase = np.unwrap(np.arctan2(np.imag(h), np.real(h)))\n",
    "    magni = np.absolute(h)\n",
    "    \n",
    "    for i, fr in enumerate(w):\n",
    "        if fr > signal_freq:\n",
    "            index = i - 1\n",
    "            break;\n",
    "    else:\n",
    "        return None\n",
    "    return magni[index], phase[index]\n",
    "    \n",
    "magn_resp, phase_resp = get_responses(b, a, 10, sin_s_freq)\n",
    "print(f\"magn_resp = {magn_resp}\\nphase_resp = {phase_resp}\")"
   ],
   "metadata": {
    "collapsed": false,
    "pycharm": {
     "name": "#%%\n"
    }
   }
  },
  {
   "cell_type": "markdown",
   "source": [
    "## Task 11\n",
    "\n",
    "- Розрахувати реакцію ЛДС на послідовність прямокутних імпульсів зі шпаруватістю 30%.\n",
    "- Побудувати графіки вхідного та вихідного сигналів\n",
    "- зробити висновки щодо спотворення вихідного сигналу відносно вхідного."
   ],
   "metadata": {
    "collapsed": false
   }
  },
  {
   "cell_type": "code",
   "execution_count": null,
   "outputs": [],
   "source": [
    "duty_cicle = 0.7  # % active period\n",
    "pwm_freq = 264\n",
    "\n",
    "pwm_t = np.linspace(0, 10, pwm_freq * 10, endpoint=True)\n",
    "pwm_s = signal.square(2 * np.pi * pwm_t, duty=duty_cicle)\n",
    "pwm_z_zero_cond, _ = signal.lfilter(b, a, pwm_s, zi=zero_cond)\n",
    "\n",
    "# Full signal Plot\n",
    "print_signal(pwm_s, pwm_t, \"LSM in/out for PWM duty=70% with random conditions\",\n",
    "            label=\"input\", extert_plt=True)\n",
    "print_signal(pwm_z_zero_cond, pwm_t, label=\"output\", create_plt=False)\n",
    "\n",
    "# Segment of signal Plot\n",
    "plot_signal_segment(pwm_s, 0, 1.6, pwm_freq, \"LSM in/out for PWM duty=70% with random conditions [fragment 0-1,6s]\",\n",
    "            label=\"input\", extert_plt=True)\n",
    "plot_signal_segment(pwm_z_zero_cond, 0, 1.6, pwm_freq, label=\"output\", create_plt=False)"
   ],
   "metadata": {
    "collapsed": false,
    "pycharm": {
     "name": "#%%\n"
    }
   }
  },
  {
   "cell_type": "markdown",
   "source": [
    "#### Summary:\n",
    "З графіків можна прослідкувати, що система не встигає моментально відреагувати на митттєву зміну вхідного сигналу, і в таких місцях виникають спотворення, які видно на вихідному сигналі в місцях стрибків вхідного сигналу."
   ],
   "metadata": {
    "collapsed": false
   }
  }
 ],
 "metadata": {
  "kernelspec": {
   "display_name": "Python 3",
   "language": "python",
   "name": "python3"
  },
  "language_info": {
   "codemirror_mode": {
    "name": "ipython",
    "version": 3
   },
   "file_extension": ".py",
   "mimetype": "text/x-python",
   "name": "python",
   "nbconvert_exporter": "python",
   "pygments_lexer": "ipython3",
   "version": "3.8.6"
  }
 },
 "nbformat": 4,
 "nbformat_minor": 1
}